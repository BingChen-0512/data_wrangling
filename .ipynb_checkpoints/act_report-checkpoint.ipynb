{
 "cells": [
  {
   "cell_type": "markdown",
   "metadata": {},
   "source": [
    "### Insight No.1\n",
    "<p>The bar chart below shows the top 10 most used dog names on WeRateDogs from 2015-11-15 to 2017-08-01. The top 10 most popular dogs names are Cooper, Oliver, Charlie, Tucker, Daisy, Lucy, Sadie, Penny, Jax, and Koda.</p>\n",
    "<p>These names can be inspiring when you want to name your dog. Also, some people may want to avoid these popular dog names when they are looking for a special name for their beloved dogs. Plus, some parents don't want to make their kid's name sound like a dog and they can try to avoid the popular dog names in the list.</p>"
   ]
  },
  {
   "cell_type": "markdown",
   "metadata": {},
   "source": [
    "<img src=\"download.png\">"
   ]
  },
  {
   "cell_type": "markdown",
   "metadata": {},
   "source": [
    "### Insight No.2 \n",
    "<p>I took the quotient of rating numerator and rating denominator as the score a dog gets.</p>\n",
    "<p>Most of the rating results about dogs on WeRateDogs from 2015-11-15 to 2017-08-01 are distributed in the range from 0.8 to 1.4. The mean and median of the ratings results both are around 1.1. Eighty-three percent of the dogs got more than 1 score in their original tweets. </p>\n",
    "<p>We can see that most of the people who posted the original tweets were quite satisfied with their dogs.</p>"
   ]
  },
  {
   "cell_type": "markdown",
   "metadata": {},
   "source": [
    "<img src=\"Insight2.png\">"
   ]
  },
  {
   "cell_type": "markdown",
   "metadata": {},
   "source": [
    "### Insight No.3\n",
    "<p>I applied value_counts method on the 'satge' column. The results showed that the word 'pupper' appeared for 151 times in the original tweets on WeRateDogs from 2015-11-15 to 2017-08-01. The second most common word about dog stage was 'doggo', which showed 56 times in the original tweets. The word 'puppo' was mentioned 20 times. And the least popular word about dog stage was 'floofer' with 8 times.</p>"
   ]
  },
  {
   "cell_type": "code",
   "execution_count": null,
   "metadata": {},
   "outputs": [],
   "source": []
  }
 ],
 "metadata": {
  "kernelspec": {
   "display_name": "Python 3",
   "language": "python",
   "name": "python3"
  },
  "language_info": {
   "codemirror_mode": {
    "name": "ipython",
    "version": 3
   },
   "file_extension": ".py",
   "mimetype": "text/x-python",
   "name": "python",
   "nbconvert_exporter": "python",
   "pygments_lexer": "ipython3",
   "version": "3.7.1"
  }
 },
 "nbformat": 4,
 "nbformat_minor": 2
}
